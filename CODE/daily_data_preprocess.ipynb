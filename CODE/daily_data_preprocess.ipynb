{
 "cells": [
  {
   "cell_type": "code",
   "execution_count": 1,
   "id": "9e5fbd24",
   "metadata": {},
   "outputs": [],
   "source": [
    "import os\n",
    "import json\n",
    "import zipfile\n",
    "import pandas as pd\n",
    "import json"
   ]
  },
  {
   "cell_type": "code",
   "execution_count": 26,
   "id": "afbde183",
   "metadata": {},
   "outputs": [],
   "source": [
    "def formatted_date(value):\n",
    "    date_formatted = value.replace(\".\", \"-\")\n",
    "    return date_formatted"
   ]
  },
  {
   "cell_type": "code",
   "execution_count": null,
   "id": "4964cd83",
   "metadata": {},
   "outputs": [],
   "source": [
    "##getting charts\n",
    "\n",
    "apple_charts = pd.read_csv(\"/Users/prayagbhatia/Desktop/ASU_Courses/SWM/project/CHARTS/APPLE1440.csv\",header=None)\n",
    "chart_column_names = ['Date', 'Time', 'Open', 'High', 'Low', 'Close', 'Volume']\n",
    "apple_charts.columns = chart_column_names\n",
    "apple_charts['DateFormatted'] = apple_charts['Date'].apply(formatted_date).apply(pd.to_datetime).dt.date\n",
    "apple_charts"
   ]
  },
  {
   "cell_type": "code",
   "execution_count": null,
   "id": "21b56ff4",
   "metadata": {},
   "outputs": [],
   "source": [
    "amazon_charts = pd.read_csv(\"/Users/prayagbhatia/Desktop/ASU_Courses/SWM/project/CHARTS/AMAZON1440.csv\",header=None)\n",
    "chart_column_names = ['Date', 'Time', 'Open', 'High', 'Low', 'Close', 'Volume']\n",
    "amazon_charts.columns = chart_column_names\n",
    "amazon_charts['DateFormatted'] = amazon_charts['Date'].apply(formatted_date).apply(pd.to_datetime).dt.date\n",
    "amazon_charts\n",
    "\n",
    "amazon_charts.iloc[1084]"
   ]
  },
  {
   "cell_type": "code",
   "execution_count": null,
   "id": "24afd2f3",
   "metadata": {},
   "outputs": [],
   "source": [
    "### Mapping Amazon news to amazon charts taking into consideration the Open values\n",
    "labels = []\n",
    "for index , row in amazon_news_df.iterrows():\n",
    "    news_date = row.Date\n",
    "    match_date_condition = amazon_charts['DateFormatted'] == news_date\n",
    "    match_idx = amazon_charts.loc[match_date_condition].index\n",
    "    if len(match_idx):\n",
    "        match_idx = match_idx[0]\n",
    "        if amazon_charts.iloc[match_idx-1].Open < amazon_charts.iloc[match_idx].Open:\n",
    "            labels.append(1)\n",
    "        else:\n",
    "            labels.append(0)\n",
    "    else:\n",
    "        labels.append(None)\n",
    "        \n",
    "\n",
    "amazon_news_df['labels'] = labels\n",
    "amazon_news_df\n"
   ]
  },
  {
   "cell_type": "code",
   "execution_count": null,
   "id": "eba2a946",
   "metadata": {},
   "outputs": [],
   "source": [
    "### Mapping Apple news to apple charts taking into consideration the Open values\n",
    "labels = []\n",
    "for index , row in apple_news_df.iterrows():\n",
    "    news_date = row.Date\n",
    "    match_date_condition = apple_charts['DateFormatted'] == news_date\n",
    "    match_idx = apple_charts.loc[match_date_condition].index\n",
    "    if len(match_idx):\n",
    "        match_idx = match_idx[0]\n",
    "        if apple_charts.iloc[match_idx-1].Open < apple_charts.iloc[match_idx].Open:\n",
    "            labels.append(1)\n",
    "        else:\n",
    "            labels.append(0)\n",
    "    else:\n",
    "        labels.append(None)\n",
    "        \n",
    "\n",
    "apple_news_df['labels'] = labels\n",
    "apple_news_df"
   ]
  },
  {
   "cell_type": "code",
   "execution_count": 38,
   "id": "d98e3337",
   "metadata": {},
   "outputs": [],
   "source": [
    "scope = ['https://www.googleapis.com/auth/drive']\n",
    "credentials = ServiceAccountCredentials.from_json_keyfile_name('/Users/prayagbhatia/Downloads/creds.json', scope)\n",
    "gauth = GoogleAuth()\n",
    "gauth.credentials = credentials\n",
    "\n",
    "# Create the PyDrive client\n",
    "drive = GoogleDrive(gauth)\n",
    "\n"
   ]
  },
  {
   "cell_type": "code",
   "execution_count": null,
   "id": "c41c3cf9",
   "metadata": {},
   "outputs": [],
   "source": [
    "csv_string = apple_news_df.to_csv()\n",
    "\n",
    "\n",
    "file = drive.CreateFile({'title': 'applenews3.csv'})\n",
    "file.SetContentString(csv_string)\n",
    "file.Upload()\n"
   ]
  },
  {
   "cell_type": "code",
   "execution_count": 22,
   "id": "46d230e4",
   "metadata": {},
   "outputs": [],
   "source": [
    "apple_news_df2 = apple_news_df.drop('text', axis=1)\n",
    "apple_news_df2.to_csv('apple_news2.csv')"
   ]
  },
  {
   "cell_type": "code",
   "execution_count": 23,
   "id": "5ec7c585",
   "metadata": {},
   "outputs": [],
   "source": [
    "amazon_news_df2 = amazon_news_df.drop('text', axis=1)\n",
    "amazon_news_df2.to_csv('amazon_news2.csv')"
   ]
  }
 ],
 "metadata": {
  "kernelspec": {
   "display_name": "Python 3 (ipykernel)",
   "language": "python",
   "name": "python3"
  },
  "language_info": {
   "codemirror_mode": {
    "name": "ipython",
    "version": 3
   },
   "file_extension": ".py",
   "mimetype": "text/x-python",
   "name": "python",
   "nbconvert_exporter": "python",
   "pygments_lexer": "ipython3",
   "version": "3.9.6"
  }
 },
 "nbformat": 4,
 "nbformat_minor": 5
}
