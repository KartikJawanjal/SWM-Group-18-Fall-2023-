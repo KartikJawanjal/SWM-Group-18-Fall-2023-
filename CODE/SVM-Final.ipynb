{
 "cells": [
  {
   "cell_type": "code",
   "execution_count": 1,
   "id": "7c6b2e6b",
   "metadata": {},
   "outputs": [],
   "source": [
    "# Install the necessary Libraries\n",
    "# !pip install nltk\n",
    "# !pip install gensim"
   ]
  },
  {
   "cell_type": "code",
   "execution_count": 2,
   "id": "25cee6ec",
   "metadata": {},
   "outputs": [],
   "source": [
    "# Import necessary libraries\n",
    "import numpy as np\n",
    "import pandas as pd\n",
    "import matplotlib.pyplot as plt\n",
    "import re\n",
    "import pickle\n",
    "\n",
    "import nltk\n",
    "from nltk.corpus import stopwords\n",
    "from nltk.tokenize import word_tokenize\n",
    "from nltk.stem import WordNetLemmatizer, PorterStemmer\n",
    "\n",
    "from gensim.models import Word2Vec\n",
    "\n",
    "from sklearn import datasets\n",
    "from sklearn import svm\n",
    "from sklearn.model_selection import StratifiedKFold\n",
    "from sklearn.metrics import accuracy_score, classification_report"
   ]
  },
  {
   "cell_type": "code",
   "execution_count": 3,
   "id": "da87f842",
   "metadata": {},
   "outputs": [
    {
     "name": "stderr",
     "output_type": "stream",
     "text": [
      "[nltk_data] Downloading package wordnet to\n",
      "[nltk_data]     C:\\Users\\indra\\AppData\\Roaming\\nltk_data...\n",
      "[nltk_data]   Package wordnet is already up-to-date!\n"
     ]
    }
   ],
   "source": [
    "# Download the necessary files\n",
    "try:\n",
    "    nltk.data.find('tokenizers/punkt')\n",
    "except LookupError:\n",
    "    nltk.download('punkt')\n",
    "try:\n",
    "    nltk.data.find('corpora/wordnet')\n",
    "except LookupError:\n",
    "    nltk.download('wordnet')\n",
    "try:\n",
    "    nltk.data.find('corpora/stopwords')\n",
    "except LookupError:\n",
    "    nltk.download('stopwords', quiet=True)"
   ]
  },
  {
   "cell_type": "code",
   "execution_count": 4,
   "id": "80fd75d9",
   "metadata": {},
   "outputs": [],
   "source": [
    "# Load the Data\n",
    "df = pd.read_csv('apple_news_hourly_summarized_spacy.csv')"
   ]
  },
  {
   "cell_type": "code",
   "execution_count": 5,
   "id": "b4f1e2cf",
   "metadata": {},
   "outputs": [],
   "source": [
    "# Remove the NA\n",
    "formatted_df = df.dropna()"
   ]
  },
  {
   "cell_type": "code",
   "execution_count": 6,
   "id": "af50b86a",
   "metadata": {},
   "outputs": [],
   "source": [
    "# Remove the unnecessary columns\n",
    "formatted_df = formatted_df.copy()"
   ]
  },
  {
   "cell_type": "code",
   "execution_count": 7,
   "id": "e86fe840",
   "metadata": {},
   "outputs": [],
   "source": [
    "# Convert 'Label' to integers\n",
    "formatted_df['Label'] = formatted_df['label'].astype(int)"
   ]
  },
  {
   "cell_type": "code",
   "execution_count": 8,
   "id": "09b4ae9f",
   "metadata": {},
   "outputs": [],
   "source": [
    "# Data cleaning steps\n",
    "formatted_df['text'] = formatted_df['text'].apply(lambda x: re.sub(r'<.*?>', '', x))  # Remove HTML tags\n",
    "formatted_df['text'] = formatted_df['text'].apply(lambda x: re.sub(r'[^a-zA-Z\\s]', '', x))  # Remove special characters\n",
    "formatted_df['text'] = formatted_df['text'].str.lower()  # Convert to lowercase"
   ]
  },
  {
   "cell_type": "code",
   "execution_count": 9,
   "id": "f74be34b",
   "metadata": {},
   "outputs": [],
   "source": [
    "# Download NLTK stop words\n",
    "stop_words = set(stopwords.words('english'))\n",
    "\n",
    "# Initialize the Porter Stemmer\n",
    "stemmer = PorterStemmer()\n",
    "\n",
    "# Initialize the WordNet Lemmatizer\n",
    "lemmatizer = WordNetLemmatizer()\n",
    "\n",
    "# Define a function to remove stop words, Stemming & Lemmatization\n",
    "def apply_nltk_fns(text):\n",
    "    words = text.split()  # Split the text into words\n",
    "    filtered_words = [word for word in words if word not in stop_words]  # Remove stop words\n",
    "    stemmed_tokens = [stemmer.stem(word) for word in filtered_words]  # Apply stemming\n",
    "    lemmatized_tokens = [lemmatizer.lemmatize(word) for word in stemmed_tokens]  # Apply lemmatization\n",
    "    return word_tokenize(' '.join(lemmatized_tokens))  # Join the words back into a sentence & tokenize text\n",
    "\n",
    "# Apply the function to the 'text' column\n",
    "formatted_df['tokens'] = formatted_df['text'].apply(apply_nltk_fns)"
   ]
  },
  {
   "cell_type": "code",
   "execution_count": 10,
   "id": "699c82ec",
   "metadata": {},
   "outputs": [],
   "source": [
    "# Train a Word2Vec Model and Initialize and train the Word2Vec model\n",
    "word2vec_model = Word2Vec(formatted_df['tokens'], vector_size=200, window=5, min_count=1, sg=0)"
   ]
  },
  {
   "cell_type": "code",
   "execution_count": 11,
   "id": "a33caab0",
   "metadata": {},
   "outputs": [],
   "source": [
    "# Save the model\n",
    "word2vec_model.save(\"word2vec.model\")"
   ]
  },
  {
   "cell_type": "code",
   "execution_count": 12,
   "id": "c9d89f0d",
   "metadata": {},
   "outputs": [],
   "source": [
    "# Feature Extraction:\n",
    "def get_doc_vector(tokens, model):\n",
    "    word_vectors = [model.wv[word] for word in tokens if word in model.wv]\n",
    "    if word_vectors:\n",
    "        return np.mean(word_vectors, axis=0)\n",
    "    else:\n",
    "        return np.zeros(model.vector_size)  # Return zero vector if no known words\n",
    "\n",
    "# Example: Calculate document vectors for a list of tokenized sentences\n",
    "document_vectors = [get_doc_vector(tokens, word2vec_model) for tokens in formatted_df['tokens']]"
   ]
  },
  {
   "cell_type": "code",
   "execution_count": 13,
   "id": "46dcfc56",
   "metadata": {},
   "outputs": [],
   "source": [
    "num_folds = 5\n",
    "max_accuracy = 0\n",
    "skf = StratifiedKFold(n_splits=num_folds, shuffle=True, random_state=42)\n",
    "\n",
    "# Initialize a list to store accuracy scores for each fold\n",
    "accuracy_scores = []"
   ]
  },
  {
   "cell_type": "code",
   "execution_count": 14,
   "id": "d10f6c86",
   "metadata": {},
   "outputs": [
    {
     "name": "stdout",
     "output_type": "stream",
     "text": [
      "[LibSVM]Classification Report - Fold 1:\n",
      "              precision    recall  f1-score   support\n",
      "\n",
      "           0       0.63      0.63      0.63      7057\n",
      "           1       0.65      0.65      0.65      7610\n",
      "\n",
      "    accuracy                           0.64     14667\n",
      "   macro avg       0.64      0.64      0.64     14667\n",
      "weighted avg       0.64      0.64      0.64     14667\n",
      "\n",
      "\n",
      "[LibSVM]Classification Report - Fold 2:\n",
      "              precision    recall  f1-score   support\n",
      "\n",
      "           0       0.62      0.63      0.63      7057\n",
      "           1       0.65      0.64      0.65      7610\n",
      "\n",
      "    accuracy                           0.64     14667\n",
      "   macro avg       0.64      0.64      0.64     14667\n",
      "weighted avg       0.64      0.64      0.64     14667\n",
      "\n",
      "\n",
      "[LibSVM]Classification Report - Fold 3:\n",
      "              precision    recall  f1-score   support\n",
      "\n",
      "           0       0.62      0.62      0.62      7057\n",
      "           1       0.65      0.65      0.65      7610\n",
      "\n",
      "    accuracy                           0.63     14667\n",
      "   macro avg       0.63      0.63      0.63     14667\n",
      "weighted avg       0.63      0.63      0.63     14667\n",
      "\n",
      "\n",
      "[LibSVM]Classification Report - Fold 4:\n",
      "              precision    recall  f1-score   support\n",
      "\n",
      "           0       0.62      0.63      0.63      7056\n",
      "           1       0.65      0.65      0.65      7611\n",
      "\n",
      "    accuracy                           0.64     14667\n",
      "   macro avg       0.64      0.64      0.64     14667\n",
      "weighted avg       0.64      0.64      0.64     14667\n",
      "\n",
      "\n",
      "[LibSVM]Classification Report - Fold 5:\n",
      "              precision    recall  f1-score   support\n",
      "\n",
      "           0       0.62      0.63      0.62      7056\n",
      "           1       0.65      0.64      0.65      7611\n",
      "\n",
      "    accuracy                           0.64     14667\n",
      "   macro avg       0.64      0.64      0.64     14667\n",
      "weighted avg       0.64      0.64      0.64     14667\n",
      "\n",
      "\n"
     ]
    }
   ],
   "source": [
    "# Loop over the folds\n",
    "for fold, (train_index, test_index) in enumerate(skf.split(document_vectors, formatted_df['Label'])):\n",
    "    \n",
    "    # Split the data into training and testing sets for this fold\n",
    "    X_train, X_test = np.array(document_vectors)[train_index], np.array(document_vectors)[test_index]\n",
    "    y_train, y_test = formatted_df['Label'].iloc[train_index], formatted_df['Label'].iloc[test_index]\n",
    "\n",
    "    # Create an SVM classifier\n",
    "    classifier = svm.SVC(kernel='rbf', C=10, gamma=0.1, verbose=True, class_weight='balanced')\n",
    "\n",
    "    # Train the SVM classifier on the training data\n",
    "    classifier.fit(X_train, y_train)\n",
    "\n",
    "    # Make predictions on the test data\n",
    "    y_pred = classifier.predict(X_test)\n",
    "\n",
    "    # Calculate the accuracy of the classifier for this fold\n",
    "    accuracy = accuracy_score(y_test, y_pred)\n",
    "    accuracy_scores.append(accuracy)\n",
    "    \n",
    "    # Store the model\n",
    "    if accuracy > max_accuracy:\n",
    "        max_accuracy = accuracy\n",
    "        file_save_name = 'svm_model.sav'\n",
    "        pickle.dump(classifier, open(file_save_name, 'wb'))\n",
    "        \n",
    "    # Generate the classification report\n",
    "    report = classification_report(y_test, y_pred)\n",
    "\n",
    "    # Print the classification report for each fold\n",
    "    print(f\"Classification Report - Fold {fold + 1}:\\n{report}\\n\")"
   ]
  },
  {
   "cell_type": "code",
   "execution_count": 15,
   "id": "a7478d9f",
   "metadata": {},
   "outputs": [
    {
     "name": "stdout",
     "output_type": "stream",
     "text": [
      "Average Accuracy Across 5 Folds: 0.6363946273948319\n"
     ]
    }
   ],
   "source": [
    "# Print the average accuracy across all folds\n",
    "\n",
    "average_accuracy = np.mean(accuracy_scores)\n",
    "print(f\"Average Accuracy Across {num_folds} Folds: {average_accuracy}\")"
   ]
  }
 ],
 "metadata": {
  "kernelspec": {
   "display_name": "Python 3 (ipykernel)",
   "language": "python",
   "name": "python3"
  },
  "language_info": {
   "codemirror_mode": {
    "name": "ipython",
    "version": 3
   },
   "file_extension": ".py",
   "mimetype": "text/x-python",
   "name": "python",
   "nbconvert_exporter": "python",
   "pygments_lexer": "ipython3",
   "version": "3.11.5"
  }
 },
 "nbformat": 4,
 "nbformat_minor": 5
}
